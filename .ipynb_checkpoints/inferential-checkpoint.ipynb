{
 "cells": [
  {
   "cell_type": "markdown",
   "id": "7ada26c2-ad46-49ec-b480-04c96ec93fc4",
   "metadata": {},
   "source": [
    "It is assumed that the mean systolic blood pressure is μ = 120 mm Hg. In the Honolulu Heart Study, a sample of n = 100 people had an average systolic blood pressure of 130.1 mm Hg with a standard deviation of 21.21 mm Hg. Is the group significantly different (with respect to systolic blood pressure!) from the regular population?\n",
    "\n",
    "Set up the hypothesis test.\n",
    "Write down all the steps followed for setting up the test.\n",
    "Calculate the test statistic by hand and also code it in Python. It should be 4.76190. We will take a look at how to make decisions based on this calculated value."
   ]
  },
  {
   "cell_type": "code",
   "execution_count": 2,
   "id": "6610a03c-be40-451a-bd59-f084515c59cb",
   "metadata": {},
   "outputs": [],
   "source": [
    "import numpy as np\n",
    "import scipy.stats as sts"
   ]
  },
  {
   "cell_type": "code",
   "execution_count": 3,
   "id": "c85042c2-72fd-4fa1-8a71-ddde90402c63",
   "metadata": {},
   "outputs": [],
   "source": [
    "mu = 120\n",
    "n = 100\n",
    "sample_mean = 130.1\n",
    "sample_std = 21.21"
   ]
  },
  {
   "cell_type": "code",
   "execution_count": 4,
   "id": "2829bc30-b388-4814-9fbb-e58a4644347e",
   "metadata": {},
   "outputs": [
    {
     "name": "stdout",
     "output_type": "stream",
     "text": [
      "Null Hypothesis (H₀): The mean systolic blood pressure is 120 mg Hg\n",
      "Alternate Hypothesis (H₁): The mean ystolic blood pressure is not 120 mg Hg\n",
      "Level of Significance (α): 0.05\n"
     ]
    }
   ],
   "source": [
    "null_hypothesis = \"The mean systolic blood pressure is 120 mg Hg\"  # H₀\n",
    "alt_hypothesis = \"The mean ystolic blood pressure is not 120 mg Hg\"  # H₁\n",
    "\n",
    "print(f\"Null Hypothesis (H₀): {null_hypothesis}\")\n",
    "print(f\"Alternate Hypothesis (H₁): {alt_hypothesis}\")\n",
    "\n",
    "alpha = 0.05\n",
    "print(f\"Level of Significance (α): {alpha}\")"
   ]
  },
  {
   "cell_type": "markdown",
   "id": "e43c7444-8917-4721-8658-f75ce687319c",
   "metadata": {},
   "source": [
    "Since we don't know the standard deviation of the population, we will conduct a t-test instead of z-test."
   ]
  },
  {
   "cell_type": "markdown",
   "id": "cc9babf8-a627-4ee2-8d11-f17c9ce7daec",
   "metadata": {},
   "source": [
    "Since we want to know if the mean of our sample group is different from the population mean (and we are not, a priori, checking if it is greater or lower, specifically), we will conduct a two-tailed t-test."
   ]
  },
  {
   "cell_type": "code",
   "execution_count": 7,
   "id": "3c3f1359-a3fa-48fd-9a1b-9f3d2f36c906",
   "metadata": {},
   "outputs": [
    {
     "name": "stdout",
     "output_type": "stream",
     "text": [
      "Test Statistic (t): 4.76190\n"
     ]
    }
   ],
   "source": [
    "t_stat = (sample_mean - mu) / (sample_std / np.sqrt(n))\n",
    "print(f\"Test Statistic (t): {t_stat:.5f}\")"
   ]
  },
  {
   "cell_type": "code",
   "execution_count": 8,
   "id": "a80c6ef8-6751-4631-bad0-211ef020e157",
   "metadata": {},
   "outputs": [
    {
     "name": "stdout",
     "output_type": "stream",
     "text": [
      "P-Value: 0.0000065627\n"
     ]
    }
   ],
   "source": [
    "p_value = sts.t.sf(np.abs(t_stat), df=n-1) * 2  \n",
    "print(f\"P-Value: {p_value:.10f}\")"
   ]
  },
  {
   "cell_type": "code",
   "execution_count": 14,
   "id": "b2cae6c7-90b0-4b07-8ca7-db994ec72ab3",
   "metadata": {},
   "outputs": [
    {
     "name": "stdout",
     "output_type": "stream",
     "text": [
      "Reject the Null Hypothesis: There is evidence to say that the sample group is significantly different (with respect to systolic blood pressure!) from the regular population\n"
     ]
    }
   ],
   "source": [
    "if p_value > alpha:\n",
    "    print(\"Fail to Reject the Null Hypothesis: Not enough evidence to say that the sample group is significantly different (with respect to systolic blood pressure!) from the regular population.\")\n",
    "else:\n",
    "    print(\"Reject the Null Hypothesis: There is evidence to say that the sample group is significantly different (with respect to systolic blood pressure!) from the regular population\")"
   ]
  }
 ],
 "metadata": {
  "kernelspec": {
   "display_name": "Python 3 (ipykernel)",
   "language": "python",
   "name": "python3"
  },
  "language_info": {
   "codemirror_mode": {
    "name": "ipython",
    "version": 3
   },
   "file_extension": ".py",
   "mimetype": "text/x-python",
   "name": "python",
   "nbconvert_exporter": "python",
   "pygments_lexer": "ipython3",
   "version": "3.12.4"
  }
 },
 "nbformat": 4,
 "nbformat_minor": 5
}
